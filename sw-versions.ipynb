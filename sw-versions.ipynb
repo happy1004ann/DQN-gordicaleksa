{
 "cells": [
  {
   "cell_type": "markdown",
   "metadata": {},
   "source": [
    "    DQN.py"
   ]
  },
  {
   "cell_type": "code",
   "execution_count": 7,
   "metadata": {},
   "outputs": [
    {
     "name": "stdout",
     "output_type": "stream",
     "text": [
      "Python v3.9.18 (main, Sep 11 2023, 14:09:26) [MSC v.1916 64 bit (AMD64)]\n",
      "NumPy v1.26.0\n",
      "PyTorch v2.1.0\n",
      "-- Is cuda available? True\n"
     ]
    }
   ],
   "source": [
    "import sys; print(f'Python v{sys.version}')\n",
    "import numpy as np; print(f'NumPy v{np.__version__}')\n",
    "import torch; print(f'PyTorch v{torch.__version__}'); print(f'-- Is cuda available? {torch.cuda.is_available()}')"
   ]
  },
  {
   "cell_type": "markdown",
   "metadata": {},
   "source": [
    "    utils.py"
   ]
  },
  {
   "cell_type": "code",
   "execution_count": 8,
   "metadata": {},
   "outputs": [
    {
     "name": "stdout",
     "output_type": "stream",
     "text": [
      "GitPython v3.1.40\n",
      "Gymnasium v0.28.1\n",
      "Stable Baselines3 v2.1.0\n"
     ]
    }
   ],
   "source": [
    "import git; print(f'GitPython v{git.__version__}')\n",
    "import gymnasium as gym; print(f'Gymnasium v{gym.__version__}')\n",
    "import stable_baselines3; print(f'Stable Baselines3 v{stable_baselines3.__version__}')"
   ]
  },
  {
   "cell_type": "markdown",
   "metadata": {},
   "source": [
    "    train_DQN_script.py"
   ]
  },
  {
   "cell_type": "code",
   "execution_count": 9,
   "metadata": {},
   "outputs": [
    {
     "name": "stdout",
     "output_type": "stream",
     "text": [
      "TensorBoard v2.10.0\n"
     ]
    }
   ],
   "source": [
    "import tensorboard; print(f'TensorBoard v{tensorboard.__version__}')"
   ]
  },
  {
   "cell_type": "markdown",
   "metadata": {},
   "source": [
    "    evaluate_DQN_script.py"
   ]
  },
  {
   "cell_type": "code",
   "execution_count": 10,
   "metadata": {},
   "outputs": [
    {
     "name": "stdout",
     "output_type": "stream",
     "text": [
      "OpenCV v4.8.1\n"
     ]
    }
   ],
   "source": [
    "import cv2; print(f'OpenCV v{cv2.__version__}')"
   ]
  },
  {
   "cell_type": "markdown",
   "metadata": {},
   "source": [
    "    video_utils.py"
   ]
  },
  {
   "cell_type": "code",
   "execution_count": 11,
   "metadata": {},
   "outputs": [
    {
     "name": "stdout",
     "output_type": "stream",
     "text": [
      "imageio v2.31.5\n"
     ]
    }
   ],
   "source": [
    "import imageio; print(f'imageio v{imageio.__version__}')"
   ]
  },
  {
   "cell_type": "markdown",
   "metadata": {},
   "source": [
    "For Gym / Gymnasium compatibility (?)"
   ]
  },
  {
   "cell_type": "code",
   "execution_count": 12,
   "metadata": {},
   "outputs": [
    {
     "name": "stdout",
     "output_type": "stream",
     "text": [
      "ALE_py v0.8.1\n",
      "SimPy v4.0.2\n",
      "Shimmy v0.2.1\n"
     ]
    }
   ],
   "source": [
    "import ale_py; print(f'ALE_py v{ale_py.__version__}')\n",
    "import simpy; print(f'SimPy v{simpy.__version__}')\n",
    "import shimmy; print(f'Shimmy v{shimmy.__version__}')"
   ]
  }
 ],
 "metadata": {
  "kernelspec": {
   "display_name": "research2",
   "language": "python",
   "name": "python3"
  },
  "language_info": {
   "codemirror_mode": {
    "name": "ipython",
    "version": 3
   },
   "file_extension": ".py",
   "mimetype": "text/x-python",
   "name": "python",
   "nbconvert_exporter": "python",
   "pygments_lexer": "ipython3",
   "version": "3.9.18"
  }
 },
 "nbformat": 4,
 "nbformat_minor": 2
}
